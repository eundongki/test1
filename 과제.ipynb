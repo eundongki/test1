{
  "nbformat": 4,
  "nbformat_minor": 0,
  "metadata": {
    "colab": {
      "provenance": [],
      "toc_visible": true,
      "authorship_tag": "ABX9TyPQznJZftuSOEcBBHovKmZZ",
      "include_colab_link": true
    },
    "kernelspec": {
      "name": "python3",
      "display_name": "Python 3"
    },
    "language_info": {
      "name": "python"
    }
  },
  "cells": [
    {
      "cell_type": "markdown",
      "metadata": {
        "id": "view-in-github",
        "colab_type": "text"
      },
      "source": [
        "<a href=\"https://colab.research.google.com/github/eundongki/test1/blob/main/%EA%B3%BC%EC%A0%9C.ipynb\" target=\"_parent\"><img src=\"https://colab.research.google.com/assets/colab-badge.svg\" alt=\"Open In Colab\"/></a>"
      ]
    },
    {
      "cell_type": "code",
      "execution_count": null,
      "metadata": {
        "colab": {
          "base_uri": "https://localhost:8080/"
        },
        "id": "Yo3C1snwXPoP",
        "outputId": "4206ddae-b102-4d95-eb79-6c8e7b4193f2"
      },
      "outputs": [
        {
          "output_type": "stream",
          "name": "stdout",
          "text": [
            "정수를 입력하세요: 4\n",
            "4 짝수\n"
          ]
        }
      ],
      "source": [
        "num = int(input(\"정수를 입력하세요: \"))\n",
        "\n",
        "if num % 2 == 0:\n",
        "    print(num, \"짝수\")\n",
        "else:\n",
        "    print(num, \"홀수\")"
      ]
    },
    {
      "cell_type": "code",
      "source": [],
      "metadata": {
        "id": "yrQ0HL2E1047"
      },
      "execution_count": null,
      "outputs": []
    },
    {
      "cell_type": "code",
      "source": [
        "a = int(input(\"첫 번째 정수를 입력하세요: \"))\n",
        "b = int(input(\"두 번째 정수를 입력하세요: \"))\n",
        "\n",
        "if a > b:\n",
        "    print(a, \"이/가 더 큽니다.\")\n",
        "elif b > a:\n",
        "    print(b, \"이/가 더 큽니다.\")\n",
        "else:\n",
        "    print(\"두 수는 같습니다.\")"
      ],
      "metadata": {
        "colab": {
          "base_uri": "https://localhost:8080/"
        },
        "id": "sGrrlQYmYeUQ",
        "outputId": "2f98fca5-beeb-49fa-cb7b-d6240725c4e8"
      },
      "execution_count": null,
      "outputs": [
        {
          "output_type": "stream",
          "name": "stdout",
          "text": [
            "첫 번째 정수를 입력하세요: 3\n",
            "두 번째 정수를 입력하세요: 2\n",
            "3 이/가 더 큽니다.\n"
          ]
        }
      ]
    },
    {
      "cell_type": "code",
      "source": [
        "a = int(input(\"첫 번째 정수를 입력하세요: \"))\n",
        "b = int(input(\"두 번째 정수를 입력하세요: \"))\n",
        "\n",
        "if a > b:\n",
        "    f = a - b\n",
        "    v = a / b\n",
        "else:\n",
        "    f = b - a\n",
        "    v = b / a\n",
        "\n",
        "print(\"큰 수에서 작은 수를 뺀 결과는\", f, \"입니다.\")\n",
        "print(\"큰 수를 작은 수로 나눈 결과는\", v, \"입니다.\")\n"
      ],
      "metadata": {
        "colab": {
          "base_uri": "https://localhost:8080/"
        },
        "id": "D6bG6UJ4Yqo_",
        "outputId": "f45a04a8-2286-4ed5-c8a7-6691d2092b75"
      },
      "execution_count": null,
      "outputs": [
        {
          "output_type": "stream",
          "name": "stdout",
          "text": [
            "첫 번째 정수를 입력하세요: 10\n",
            "두 번째 정수를 입력하세요: 4\n",
            "큰 수에서 작은 수를 뺀 결과는 6 입니다.\n",
            "큰 수를 작은 수로 나눈 결과는 2.5 입니다.\n"
          ]
        }
      ]
    },
    {
      "cell_type": "code",
      "source": [
        "a = int(input(\"정수를 입력하세요: \"))\n",
        "\n",
        "if 1 <= a <= 10:\n",
        "    print(\"OK\")\n",
        "else:\n",
        "    print(\"NOK\")"
      ],
      "metadata": {
        "colab": {
          "base_uri": "https://localhost:8080/"
        },
        "id": "Mtc7k56RZC5O",
        "outputId": "6e0c2750-42c4-4620-f772-50fabe883184"
      },
      "execution_count": null,
      "outputs": [
        {
          "output_type": "stream",
          "name": "stdout",
          "text": [
            "정수를 입력하세요: 10\n",
            "OK\n"
          ]
        }
      ]
    },
    {
      "cell_type": "code",
      "source": [
        "x = float(input(\"실수를 입력하세요: \"))\n",
        "\n",
        "if 1 <= x < 10:\n",
        "    print(\"입력값의 2배는\", 2 * x, \"입니다.\")\n",
        "else:\n",
        "    print(\"입력값의 3배는\", 3 * x, \"입니다.\")"
      ],
      "metadata": {
        "colab": {
          "base_uri": "https://localhost:8080/"
        },
        "id": "tZHlLPeqZjQb",
        "outputId": "daa61399-4028-4076-8a26-6adc3d3f275c"
      },
      "execution_count": null,
      "outputs": [
        {
          "output_type": "stream",
          "name": "stdout",
          "text": [
            "실수를 입력하세요: 3\n",
            "입력값의 2배는 6.0 입니다.\n"
          ]
        }
      ]
    },
    {
      "cell_type": "code",
      "source": [
        "char = input(\"문자를 입력하세요: \")\n",
        "if char.isupper():\n",
        "    print(\"입력된 문자는 대문자입니다.\")\n",
        "else:\n",
        "    print(\"입력된 문자는 대문자가 아닙니다.\")"
      ],
      "metadata": {
        "colab": {
          "base_uri": "https://localhost:8080/"
        },
        "id": "Lw0HhlKN12au",
        "outputId": "7c9bc690-f71b-422a-947d-b9d2eb95e117"
      },
      "execution_count": null,
      "outputs": [
        {
          "output_type": "stream",
          "name": "stdout",
          "text": [
            "문자를 입력하세요: a\n",
            "입력된 문자는 대문자가 아닙니다.\n"
          ]
        }
      ]
    },
    {
      "cell_type": "code",
      "source": [
        "ch = input(\"문자를 입력하세요: \")\n",
        "if ch == 'y' or ch == 'Y' or ch == '\\n':\n",
        "    print(\"OK\")\n",
        "else:\n",
        "    print(\"NOK\")"
      ],
      "metadata": {
        "colab": {
          "base_uri": "https://localhost:8080/"
        },
        "id": "7YcSVUYi2Oaf",
        "outputId": "a8882618-18cc-46aa-88fb-0ccf8b9c7efd"
      },
      "execution_count": null,
      "outputs": [
        {
          "output_type": "stream",
          "name": "stdout",
          "text": [
            "문자를 입력하세요: y\n",
            "OK\n"
          ]
        }
      ]
    },
    {
      "cell_type": "code",
      "source": [
        "ch = input(\"문자를 입력하세요: \")\n",
        "if ch.isupper():\n",
        "    print(\"입력된 문자는 대문자입니다.\")\n",
        "elif ch.islower():\n",
        "    print(\"입력된 문자는 소문자입니다.\")\n",
        "else:\n",
        "    print(\"입력된 문자는 기타의 문자입니다.\")\n",
        "    "
      ],
      "metadata": {
        "colab": {
          "base_uri": "https://localhost:8080/"
        },
        "id": "TXKyFcw72e1L",
        "outputId": "3f5a77aa-7265-494e-861c-f7cb0149ef5f"
      },
      "execution_count": null,
      "outputs": [
        {
          "output_type": "stream",
          "name": "stdout",
          "text": [
            "문자를 입력하세요: @\n",
            "입력된 문자는 기타의 문자입니다.\n"
          ]
        }
      ]
    },
    {
      "cell_type": "code",
      "source": [
        "a = int(input(\"정수를 입력하세요: \"))\n",
        "if a < 1 or a > 10:\n",
        "    print(\"ERROR\")\n",
        "elif a % 3 != 0:\n",
        "    print(\"OK\")\n",
        "else:\n",
        "    print(\"NOK\")\n",
        "    "
      ],
      "metadata": {
        "colab": {
          "base_uri": "https://localhost:8080/"
        },
        "id": "Izv9OLHX2pgK",
        "outputId": "50151ca0-a5be-4bdb-ccc0-7e6d65080a31"
      },
      "execution_count": null,
      "outputs": [
        {
          "output_type": "stream",
          "name": "stdout",
          "text": [
            "정수를 입력하세요: 11\n",
            "ERROR\n"
          ]
        }
      ]
    },
    {
      "cell_type": "code",
      "source": [
        "n = int(input(\"양의 정수 n을 입력하세요: \"))\n",
        "sum = 0\n",
        "for i in range(1, n+1):\n",
        "    sum += i\n",
        "print(\"1부터\", n, \"까지의 합은\", sum, \"입니다.\")"
      ],
      "metadata": {
        "colab": {
          "base_uri": "https://localhost:8080/"
        },
        "id": "kZDTmaN226ZV",
        "outputId": "786b1386-7e1b-44af-8083-f56facf6f401"
      },
      "execution_count": null,
      "outputs": [
        {
          "output_type": "stream",
          "name": "stdout",
          "text": [
            "양의 정수 n을 입력하세요: 4\n",
            "1부터 4 까지의 합은 10 입니다.\n"
          ]
        }
      ]
    },
    {
      "cell_type": "code",
      "source": [
        "n = int(input(\"양의 정수 n을 입력하세요: \"))\n",
        "답 = 1\n",
        "for i in range(1, n+1):\n",
        "    답 *= i\n",
        "print(n, \"!은\", 답, \"입니다.\")"
      ],
      "metadata": {
        "colab": {
          "base_uri": "https://localhost:8080/"
        },
        "id": "MzIBOUN53BC7",
        "outputId": "8f73fa31-51a3-4433-a72e-b4d6c647b763"
      },
      "execution_count": null,
      "outputs": [
        {
          "output_type": "stream",
          "name": "stdout",
          "text": [
            "양의 정수 n을 입력하세요: 4\n",
            "4 !은 24 입니다.\n"
          ]
        }
      ]
    },
    {
      "cell_type": "code",
      "source": [
        "a = int(input(\"정수 a를 입력하세요: \"))\n",
        "b = int(input(\"정수 b를 입력하세요: \"))\n",
        "odd_count = 0\n",
        "odd_sum = 0\n",
        "for i in range(a, b+1):\n",
        "    if i % 2 == 1:\n",
        "        odd_count += 1\n",
        "        odd_sum += i\n",
        "print(a, \"부터\", b, \"까지의 홀수 개수는\", odd_count, \"개이며, 홀수의 합은\", odd_sum, \"입니다.\")"
      ],
      "metadata": {
        "colab": {
          "base_uri": "https://localhost:8080/"
        },
        "id": "t3BkzWii3NqI",
        "outputId": "62a6fbd1-afdd-4c36-af97-d55594aaf69a"
      },
      "execution_count": null,
      "outputs": [
        {
          "output_type": "stream",
          "name": "stdout",
          "text": [
            "정수 a를 입력하세요: 1\n",
            "정수 b를 입력하세요: 5\n",
            "1 부터 5 까지의 홀수 개수는 3 개이며, 홀수의 합은 9 입니다.\n"
          ]
        }
      ]
    },
    {
      "cell_type": "code",
      "source": [
        "sum = 0\n",
        "for i in range(1, 101):\n",
        "    if (i % 3 == 0 or i % 5 == 0) and i % 15 != 0:\n",
        "        sum += i\n",
        "print(\"100 이하의 자연수중 3의 배수이거나 5의 배수이면서 15의 배수가 아닌 수들의 합은\", sum, \"입니다.\")\n"
      ],
      "metadata": {
        "colab": {
          "base_uri": "https://localhost:8080/"
        },
        "id": "9W6Woqyw3S8u",
        "outputId": "6fcb47aa-a387-4d73-c751-dae8442476e1"
      },
      "execution_count": null,
      "outputs": [
        {
          "output_type": "stream",
          "name": "stdout",
          "text": [
            "100 이하의 자연수중 3의 배수이거나 5의 배수이면서 15의 배수가 아닌 수들의 합은 2103 입니다.\n"
          ]
        }
      ]
    },
    {
      "cell_type": "code",
      "source": [
        "n = int(input(\"100 이하의 양의 정수를 입력하세요: \"))\n",
        "count = 0\n",
        "print(\"1부터 100까지의\", n, \"의 배수는\")\n",
        "for i in range(1, 101):\n",
        "    if i % n == 0:\n",
        "        print(i, end=\" \")\n",
        "        count += 1\n",
        "print(\"\\n입니다. 총\", count, \"개입니다.\")\n"
      ],
      "metadata": {
        "colab": {
          "base_uri": "https://localhost:8080/"
        },
        "id": "VDzdmM683eLj",
        "outputId": "7bb9bfab-e939-4a1d-e724-732b81e099d5"
      },
      "execution_count": null,
      "outputs": [
        {
          "output_type": "stream",
          "name": "stdout",
          "text": [
            "100 이하의 양의 정수를 입력하세요: 2\n",
            "1부터 100까지의 2 의 배수는\n",
            "2 4 6 8 10 12 14 16 18 20 22 24 26 28 30 32 34 36 38 40 42 44 46 48 50 52 54 56 58 60 62 64 66 68 70 72 74 76 78 80 82 84 86 88 90 92 94 96 98 100 \n",
            "입니다. 총 50 개입니다.\n"
          ]
        }
      ]
    },
    {
      "cell_type": "code",
      "source": [
        "result = 0  \n",
        "for i in range(1, 101): \n",
        "    if i % 2 == 0:  \n",
        "        result += i  \n",
        "    else:  \n",
        "        result -= i  \n",
        "print(result)  \n"
      ],
      "metadata": {
        "colab": {
          "base_uri": "https://localhost:8080/"
        },
        "id": "jfJUoso731ok",
        "outputId": "31feff25-c238-4203-e1a0-e576c7d8915d"
      },
      "execution_count": null,
      "outputs": [
        {
          "output_type": "stream",
          "name": "stdout",
          "text": [
            "-50\n"
          ]
        }
      ]
    },
    {
      "cell_type": "code",
      "source": [
        "# 학생 수\n",
        "num_students = 5\n",
        "\n",
        "# 학생 정보 입력받기\n",
        "students = []\n",
        "for i in range(num_students):\n",
        "    student = {}\n",
        "    student['번호'] = int(input(f\"{i+1}번 학생의 번호를 입력하세요: \"))\n",
        "    student['중간점수'] = int(input(f\"{i+1}번 학생의 중간 점수를 입력하세요: \"))\n",
        "    student['기말점수'] = int(input(f\"{i+1}번 학생의 기말 점수를 입력하세요: \"))\n",
        "    students.append(student)\n",
        "\n",
        "# 각 학생의 총점, 평균, 학점 계산하기\n",
        "for student in students:\n",
        "    student['총점'] = student['중간점수'] + student['기말점수']\n",
        "    student['평균'] = round(student['총점'] / 2, 2)\n",
        "    \n",
        "    if student['평균'] >= 90:\n",
        "        student['학점'] = 'A'\n",
        "    elif student['평균'] >= 80:\n",
        "        student['학점'] = 'B'\n",
        "    elif student['평균'] >= 70:\n",
        "        student['학점'] = 'C'\n",
        "    elif student['평균'] >= 60:\n",
        "        student['학점'] = 'D'\n",
        "    else:\n",
        "        student['학점'] = 'F'\n",
        "        \n",
        "# 결과 출력하기\n",
        "print(\"번호\\t중간점수\\t기말점수\\t총점\\t평균\\t학점\")\n",
        "for student in students:\n",
        "    print(f\"{student['번호']}\\t{student['중간점수']}\\t{student['기말점수']}\\t{student['총점']}\\t{student['평균']}\\t{student['학점']}\")\n",
        "    "
      ],
      "metadata": {
        "colab": {
          "base_uri": "https://localhost:8080/"
        },
        "id": "pRGjSkWq5HUX",
        "outputId": "6e2249d4-fff4-481d-c31f-1456bfbefe45"
      },
      "execution_count": null,
      "outputs": [
        {
          "output_type": "stream",
          "name": "stdout",
          "text": [
            "1번 학생의 번호를 입력하세요: 1\n",
            "1번 학생의 중간 점수를 입력하세요: 42\n",
            "1번 학생의 기말 점수를 입력하세요: 24\n",
            "2번 학생의 번호를 입력하세요: 2\n",
            "2번 학생의 중간 점수를 입력하세요: 421\n",
            "2번 학생의 기말 점수를 입력하세요: 421\n",
            "3번 학생의 번호를 입력하세요: 4\n",
            "3번 학생의 중간 점수를 입력하세요: 521\n",
            "3번 학생의 기말 점수를 입력하세요: 521\n",
            "4번 학생의 번호를 입력하세요: 5\n",
            "4번 학생의 중간 점수를 입력하세요: 123\n",
            "4번 학생의 기말 점수를 입력하세요: 421\n",
            "5번 학생의 번호를 입력하세요: 42\n",
            "5번 학생의 중간 점수를 입력하세요: 512\n",
            "5번 학생의 기말 점수를 입력하세요: 521\n",
            "번호\t중간점수\t기말점수\t총점\t평균\t학점\n",
            "1\t42\t24\t66\t33.0\tF\n",
            "2\t421\t421\t842\t421.0\tA\n",
            "4\t521\t521\t1042\t521.0\tA\n",
            "5\t123\t421\t544\t272.0\tA\n",
            "42\t512\t521\t1033\t516.5\tA\n"
          ]
        }
      ]
    },
    {
      "cell_type": "code",
      "source": [
        "while True:\n",
        "    score = int(input(\"점수를 입력하세요: \"))\n",
        "    if score < 0 or score > 100:\n",
        "        print(\"잘못된 입력입니다. 점수는 0부터 100 사이의 값이어야 합니다.\")\n",
        "    else:\n",
        "        break\n",
        "        \n",
        "print(f\"입력된 점수는 {score}입니다.\")\n"
      ],
      "metadata": {
        "colab": {
          "base_uri": "https://localhost:8080/"
        },
        "id": "jd81eUGF5URK",
        "outputId": "6efd1dfe-946d-483e-9b5d-667a80e32e5c"
      },
      "execution_count": null,
      "outputs": [
        {
          "output_type": "stream",
          "name": "stdout",
          "text": [
            "점수를 입력하세요: 110\n",
            "잘못된 입력입니다. 점수는 0부터 100 사이의 값이어야 합니다.\n",
            "점수를 입력하세요: 124\n",
            "잘못된 입력입니다. 점수는 0부터 100 사이의 값이어야 합니다.\n",
            "점수를 입력하세요: 2\n",
            "입력된 점수는 2입니다.\n"
          ]
        }
      ]
    },
    {
      "cell_type": "code",
      "source": [],
      "metadata": {
        "id": "vakrZulC5b03"
      },
      "execution_count": null,
      "outputs": []
    },
    {
      "cell_type": "code",
      "source": [
        "number = int(input(\"정수를 입력하세요: \"))\n",
        "\n",
        "for i in range(2, int(number ** 0.5) + 1):\n",
        "    if number % i == 0:\n",
        "        print(f\"{number}은(는) 소수가 아닙니다.\")\n",
        "        break\n",
        "else:\n",
        "    print(f\"{number}은(는) 소수입니다.\")\n"
      ],
      "metadata": {
        "colab": {
          "base_uri": "https://localhost:8080/"
        },
        "id": "VHDdEYo75inb",
        "outputId": "988b8292-5d29-470f-c154-705b6c70942a"
      },
      "execution_count": null,
      "outputs": [
        {
          "output_type": "stream",
          "name": "stdout",
          "text": [
            "정수를 입력하세요: 10\n",
            "10은(는) 소수가 아닙니다.\n"
          ]
        }
      ]
    }
  ]
}