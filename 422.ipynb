{
  "nbformat": 4,
  "nbformat_minor": 0,
  "metadata": {
    "colab": {
      "provenance": [],
      "mount_file_id": "1e8tXd_nGi48UTNPEuIQbYyId3nbFbOkm",
      "authorship_tag": "ABX9TyNEl4QWLIa10uJnJwiT91uT",
      "include_colab_link": true
    },
    "kernelspec": {
      "name": "python3",
      "display_name": "Python 3"
    },
    "language_info": {
      "name": "python"
    }
  },
  "cells": [
    {
      "cell_type": "markdown",
      "metadata": {
        "id": "view-in-github",
        "colab_type": "text"
      },
      "source": [
        "<a href=\"https://colab.research.google.com/github/eundongki/test1/blob/main/422.ipynb\" target=\"_parent\"><img src=\"https://colab.research.google.com/assets/colab-badge.svg\" alt=\"Open In Colab\"/></a>"
      ]
    },
    {
      "cell_type": "code",
      "execution_count": null,
      "metadata": {
        "colab": {
          "base_uri": "https://localhost:8080/"
        },
        "id": "-wXxSNUEWSvZ",
        "outputId": "3fb13bed-ce29-43cc-ab76-686d9c38c0c4"
      },
      "outputs": [
        {
          "output_type": "stream",
          "name": "stdout",
          "text": [
            "정수를 입렵하시오2\n",
            "짝수\n"
          ]
        }
      ],
      "source": [
        "a=int(input(\"정수를 입렵하시오\"))\n",
        "if a==2:\n",
        "  print(\"짝수\")\n",
        "else:\n",
        "  print(\"홀수\")"
      ]
    },
    {
      "cell_type": "code",
      "source": [
        "a=int(input(\"정수를 입렵하시오\"))\n",
        "b=int(input(\"정수를 입렵하시오\"))\n",
        "if a>b:\n",
        "  print(a,\"가 더큽니다\")\n",
        "else:\n",
        "  print(b,\"가 더큽니다\")"
      ],
      "metadata": {
        "colab": {
          "base_uri": "https://localhost:8080/"
        },
        "id": "EKkd5BVwXcln",
        "outputId": "c89fa9a4-390f-4d34-c597-c90e89de4bca"
      },
      "execution_count": null,
      "outputs": [
        {
          "output_type": "stream",
          "name": "stdout",
          "text": [
            "정수를 입렵하시오5\n",
            "정수를 입렵하시오4\n",
            "5 가 더큽니다\n"
          ]
        }
      ]
    },
    {
      "cell_type": "code",
      "source": [
        "a = int(input(\"첫 번째 정수를 입력하세요: \"))\n",
        "b = int(input(\"두 번째 정수를 입력하세요: \"))\n",
        "\n",
        "if a > b:\n",
        "    f = a - b\n",
        "    v = a / b\n",
        "else:\n",
        "    f = b - a\n",
        "    v = b / a\n",
        "\n",
        "print(\"큰 수에서 작은 수를 뺀 결과는\", f, \"입니다.\")\n",
        "print(\"큰 수를 작은 수로 나눈 결과는\", v, \"입니다.\")\n"
      ],
      "metadata": {
        "colab": {
          "base_uri": "https://localhost:8080/"
        },
        "id": "OApv-R9AZpvh",
        "outputId": "df4d7878-af64-44be-9866-abc69a036ca1"
      },
      "execution_count": null,
      "outputs": [
        {
          "output_type": "stream",
          "name": "stdout",
          "text": [
            "첫 번째 정수를 입력하세요: 6\n",
            "두 번째 정수를 입력하세요: 2\n",
            "큰 수에서 작은 수를 뺀 결과는 4 입니다.\n",
            "큰 수를 작은 수로 나눈 결과는 3.0 입니다.\n"
          ]
        }
      ]
    },
    {
      "cell_type": "code",
      "source": [
        "a = int(input(\"첫 번째 정수를 입력하세요: \"))\n",
        "if 1<=a<=10:\n",
        "  print(\"OK\")\n",
        "else:\n",
        "  print(\"NOK\")"
      ],
      "metadata": {
        "colab": {
          "base_uri": "https://localhost:8080/"
        },
        "id": "WF3YJ23UZtSG",
        "outputId": "b8277b26-2a60-4a54-9c84-731ed7f2a617"
      },
      "execution_count": null,
      "outputs": [
        {
          "output_type": "stream",
          "name": "stdout",
          "text": [
            "첫 번째 정수를 입력하세요: 11\n",
            "NOK\n"
          ]
        }
      ]
    },
    {
      "cell_type": "code",
      "source": [
        "a = int(input(\"첫 번째 정수를 입력하세요: \"))\n",
        "if a<=1 or 9<a:\n",
        "  print(\"OK\")\n",
        "else:\n",
        "  print(\"NOK\")"
      ],
      "metadata": {
        "colab": {
          "base_uri": "https://localhost:8080/"
        },
        "id": "UT-Px-YlZ-7p",
        "outputId": "972d823d-66c2-47fe-8fee-ddef4de2738c"
      },
      "execution_count": null,
      "outputs": [
        {
          "output_type": "stream",
          "name": "stdout",
          "text": [
            "첫 번째 정수를 입력하세요: 11\n",
            "OK\n"
          ]
        }
      ]
    },
    {
      "cell_type": "code",
      "source": [
        "a = int(input(\"첫 번째 정수를 입력하세요: \"))\n",
        "if 1<=a<10:\n",
        "  print(a*2,\"입니다\")\n",
        "else:\n",
        "  print(a*3,\"입니다\")\n",
        " "
      ],
      "metadata": {
        "colab": {
          "base_uri": "https://localhost:8080/"
        },
        "id": "Ls6qoom-agTs",
        "outputId": "a2375e4e-e956-4c6e-a6ff-b76312f610f2"
      },
      "execution_count": null,
      "outputs": [
        {
          "output_type": "stream",
          "name": "stdout",
          "text": [
            "첫 번째 정수를 입력하세요: 9\n",
            "18 입니다\n"
          ]
        }
      ]
    },
    {
      "cell_type": "code",
      "source": [
        "char = input(\"첫 번째 문자를 입력하세요: \")\n",
        "if char.isupper():\n",
        "  print(\"대문자입니다\")\n",
        "else:\n",
        "  print(\"대문자가 아닙니다\")\n"
      ],
      "metadata": {
        "colab": {
          "base_uri": "https://localhost:8080/"
        },
        "id": "CogSv--LbmnN",
        "outputId": "18586e23-fc7b-4627-bb07-fd540f063cd0"
      },
      "execution_count": null,
      "outputs": [
        {
          "output_type": "stream",
          "name": "stdout",
          "text": [
            "첫 번째 문자를 입력하세요: a\n",
            "대문자가 아닙니다\n"
          ]
        }
      ]
    },
    {
      "cell_type": "code",
      "source": [
        "ch = input(\"첫 번째 정수를 입력하세요: \")\n",
        "if ch == \"y\" or ch==\"Y\" or ch==\"\":\n",
        "  print(\"OK\")\n",
        "else:\n",
        "  print(\"NOK\")"
      ],
      "metadata": {
        "colab": {
          "base_uri": "https://localhost:8080/"
        },
        "id": "fauwXkQHclzO",
        "outputId": "37861fd1-dca3-48b9-e355-b4aaafe27bc2"
      },
      "execution_count": null,
      "outputs": [
        {
          "output_type": "stream",
          "name": "stdout",
          "text": [
            "첫 번째 정수를 입력하세요: a\n",
            "NOK\n"
          ]
        }
      ]
    },
    {
      "cell_type": "code",
      "source": [
        "char = input(\"문자를 입력하세요\")\n",
        "if char.isupper():\n",
        "  print(char,(\"대문자\"))\n",
        "elif char.islower():\n",
        "  print(char,(\"소문자\"))\n",
        "else:\n",
        "  print(\"기타문자입니다다\")"
      ],
      "metadata": {
        "colab": {
          "base_uri": "https://localhost:8080/"
        },
        "id": "U25E0LYndfAg",
        "outputId": "dfba5cbe-a090-4044-9784-b8a662453410"
      },
      "execution_count": null,
      "outputs": [
        {
          "output_type": "stream",
          "name": "stdout",
          "text": [
            "문자를 입력하세요ㅠ\n",
            "기타문자입니다다\n"
          ]
        }
      ]
    },
    {
      "cell_type": "code",
      "source": [
        "a = int(input(\"첫 번째 정수를 입력하세요: \"))\n",
        "if a<1 or a>=10:\n",
        "  print(\"ERROR\")\n",
        "elif a%3 !=0:\n",
        "  print(\"NOK\")\n",
        "else:\n",
        "  print(\"OK\")"
      ],
      "metadata": {
        "colab": {
          "base_uri": "https://localhost:8080/"
        },
        "id": "fgsGHWhpePnM",
        "outputId": "691cc3d0-a1be-4aeb-cfa7-0f92cbaf83ed"
      },
      "execution_count": null,
      "outputs": [
        {
          "output_type": "stream",
          "name": "stdout",
          "text": [
            "첫 번째 정수를 입력하세요: 9\n",
            "OK\n"
          ]
        }
      ]
    },
    {
      "cell_type": "code",
      "source": [],
      "metadata": {
        "id": "u--rdi7o7iIg"
      },
      "execution_count": null,
      "outputs": []
    },
    {
      "cell_type": "code",
      "source": [],
      "metadata": {
        "id": "e2Ncg3NOgEI-"
      },
      "execution_count": null,
      "outputs": []
    }
  ]
}